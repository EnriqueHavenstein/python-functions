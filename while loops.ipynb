{
 "cells": [
  {
   "cell_type": "code",
   "execution_count": 1,
   "id": "5086d712-0ce4-404e-a7db-72f64d83faa2",
   "metadata": {},
   "outputs": [],
   "source": [
    "# while loops"
   ]
  },
  {
   "cell_type": "code",
   "execution_count": 3,
   "id": "a8f14203-9270-4434-b608-0a4484d33097",
   "metadata": {},
   "outputs": [
    {
     "name": "stdout",
     "output_type": "stream",
     "text": [
      "720\n"
     ]
    }
   ],
   "source": [
    "# find the factorial of a number\n",
    "\n",
    "number = 6\n",
    "product = 1\n",
    "current = 1\n",
    "\n",
    "while number >= current:\n",
    "        product *= current\n",
    "        current += 1\n",
    "        \n",
    "print(product)"
   ]
  },
  {
   "cell_type": "code",
   "execution_count": 4,
   "id": "7b48f80b-f71d-4fde-b4d2-2bdfc8f2d753",
   "metadata": {},
   "outputs": [
    {
     "name": "stdin",
     "output_type": "stream",
     "text": [
      "Start number:  2\n",
      "End number:  8\n",
      "Count by:  2\n"
     ]
    },
    {
     "name": "stdout",
     "output_type": "stream",
     "text": [
      "8\n"
     ]
    }
   ],
   "source": [
    "start_num = int(input('Start number: '))\n",
    "end_num = int(input('End number: '))\n",
    "count_by = int(input('Count by: '))\n",
    "\n",
    "if start_num > end_num:\n",
    "    result = 'Oops! Looks like your start value is greater than the end value. Please try again.'\n",
    "\n",
    "else:\n",
    "    break_num = start_num\n",
    "    while end_num > break_num:\n",
    "        break_num += count_by\n",
    "        \n",
    "    result = break_num\n",
    "        \n",
    "print(result)"
   ]
  },
  {
   "cell_type": "code",
   "execution_count": 5,
   "id": "a2571e6f-8b36-4720-963a-4c9370235feb",
   "metadata": {},
   "outputs": [
    {
     "name": "stdin",
     "output_type": "stream",
     "text": [
      "Set limit:  40\n"
     ]
    },
    {
     "name": "stdout",
     "output_type": "stream",
     "text": [
      "36\n"
     ]
    }
   ],
   "source": [
    "# nearest square\n",
    "\n",
    "limit = int(input('Set limit: '))\n",
    "nearest_square = 1\n",
    "count = 1\n",
    "\n",
    "while count**2 < limit:\n",
    "    nearest_square = count **2\n",
    "    count += 1\n",
    "\n",
    "print(nearest_square)"
   ]
  },
  {
   "cell_type": "code",
   "execution_count": null,
   "id": "bb9387f5-e73c-4b34-8969-57467a1c7110",
   "metadata": {},
   "outputs": [],
   "source": [
    "num_list = [422, 136, 524, 85, 96, 719, 85, 92, 10, 17, 312, 542, 87, 23, 86, 191, 116, 35, 173, 45, 149, 59, 84, 69, 113, 166]\n",
    "count_odd = 0\n",
    "list_sum = 0\n",
    "len_num_list = len(num_list)\n",
    "i = 0\n",
    "\n",
    "while (count_odd < 5) and (i < len_num_list):\n",
    "    if i % 2 > 0:\n",
    "        \n",
    "        "
   ]
  }
 ],
 "metadata": {
  "kernelspec": {
   "display_name": "Python 3 (ipykernel)",
   "language": "python",
   "name": "python3"
  },
  "language_info": {
   "codemirror_mode": {
    "name": "ipython",
    "version": 3
   },
   "file_extension": ".py",
   "mimetype": "text/x-python",
   "name": "python",
   "nbconvert_exporter": "python",
   "pygments_lexer": "ipython3",
   "version": "3.9.12"
  }
 },
 "nbformat": 4,
 "nbformat_minor": 5
}

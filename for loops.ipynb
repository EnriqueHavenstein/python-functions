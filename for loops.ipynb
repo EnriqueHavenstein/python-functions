{
 "cells": [
  {
   "cell_type": "code",
   "execution_count": 1,
   "id": "7b94a5a8-fa8a-4135-9070-b226f019b063",
   "metadata": {},
   "outputs": [
    {
     "name": "stdout",
     "output_type": "stream",
     "text": [
      "new york city\n",
      "mountain view\n",
      "chicago\n",
      "los angeles\n"
     ]
    }
   ],
   "source": [
    "# cities [list] broken down using a for loop\n",
    "\n",
    "cities = ['new york city', 'mountain view', 'chicago', 'los angeles']\n",
    "for city in cities:\n",
    "    print(city)"
   ]
  },
  {
   "cell_type": "code",
   "execution_count": 5,
   "id": "5f9bc218-3227-44fd-9609-fbe561e3efb3",
   "metadata": {},
   "outputs": [
    {
     "name": "stdout",
     "output_type": "stream",
     "text": [
      "Hi!\n",
      "Hi!\n",
      "Hi!\n"
     ]
    }
   ],
   "source": [
    "# range() built in function used to create an iterable sequence of numbers\n",
    "\n",
    "for i in range(3):\n",
    "    print(\"Hi!\")"
   ]
  },
  {
   "cell_type": "code",
   "execution_count": 6,
   "id": "6e2a11d4-82e2-4c1b-9786-efd848c3a7fe",
   "metadata": {},
   "outputs": [],
   "source": [
    "# range(start=0, stop, step=1)\n"
   ]
  },
  {
   "cell_type": "code",
   "execution_count": 12,
   "id": "68703ca8-6c74-4642-8e07-6db23fa4f0e2",
   "metadata": {},
   "outputs": [
    {
     "ename": "SyntaxError",
     "evalue": "invalid syntax (2787547257.py, line 1)",
     "output_type": "error",
     "traceback": [
      "\u001b[1;36m  Input \u001b[1;32mIn [12]\u001b[1;36m\u001b[0m\n\u001b[1;33m    for i in range(2, 10)\u001b[0m\n\u001b[1;37m                         ^\u001b[0m\n\u001b[1;31mSyntaxError\u001b[0m\u001b[1;31m:\u001b[0m invalid syntax\n"
     ]
    }
   ],
   "source": [
    "for i in range(2, 10, 2)\n",
    "    print i"
   ]
  },
  {
   "cell_type": "code",
   "execution_count": 11,
   "id": "2a3ef5fd-fef9-45a8-bed2-0fc2f26a24d7",
   "metadata": {},
   "outputs": [
    {
     "name": "stdout",
     "output_type": "stream",
     "text": [
      "['New York City', 'Mountain View', 'Chicago', 'Los Angeles']\n"
     ]
    }
   ],
   "source": [
    "# creating a new list\n",
    "# .append() used to add items to the end (first free space) of a given list\n",
    "# .title() returns a string where the first character in every word is upper case\n",
    "\n",
    "cities = ['new york city', 'mountain view', 'chicago', 'los angeles']\n",
    "capitalized_cities = []\n",
    "\n",
    "for city in cities:\n",
    "    capitalized_cities.append(city.title())\n",
    "    \n",
    "print(capitalized_cities)"
   ]
  },
  {
   "cell_type": "code",
   "execution_count": null,
   "id": "9333d5ec-989f-447c-9911-0a03ea68f297",
   "metadata": {},
   "outputs": [],
   "source": [
    "# modifying a list\n",
    "\n",
    "cities = ['new york city', 'mountain view', 'chicago', 'los angeles']\n",
    "\n",
    "for index in range(len(cities)):\n",
    "    cities[index] = cities[index].title()"
   ]
  }
 ],
 "metadata": {
  "kernelspec": {
   "display_name": "Python 3 (ipykernel)",
   "language": "python",
   "name": "python3"
  },
  "language_info": {
   "codemirror_mode": {
    "name": "ipython",
    "version": 3
   },
   "file_extension": ".py",
   "mimetype": "text/x-python",
   "name": "python",
   "nbconvert_exporter": "python",
   "pygments_lexer": "ipython3",
   "version": "3.9.12"
  }
 },
 "nbformat": 4,
 "nbformat_minor": 5
}

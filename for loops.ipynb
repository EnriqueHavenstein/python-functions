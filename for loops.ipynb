{
 "cells": [
  {
   "cell_type": "code",
   "execution_count": 1,
   "id": "7b94a5a8-fa8a-4135-9070-b226f019b063",
   "metadata": {},
   "outputs": [
    {
     "name": "stdout",
     "output_type": "stream",
     "text": [
      "new york city\n",
      "mountain view\n",
      "chicago\n",
      "los angeles\n"
     ]
    }
   ],
   "source": [
    "# cities [list] broken down using a for loop\n",
    "\n",
    "cities = ['new york city', 'mountain view', 'chicago', 'los angeles']\n",
    "for city in cities:\n",
    "    print(city)"
   ]
  },
  {
   "cell_type": "code",
   "execution_count": 5,
   "id": "5f9bc218-3227-44fd-9609-fbe561e3efb3",
   "metadata": {},
   "outputs": [
    {
     "name": "stdout",
     "output_type": "stream",
     "text": [
      "Hi!\n",
      "Hi!\n",
      "Hi!\n"
     ]
    }
   ],
   "source": [
    "# range() built in function used to create an iterable sequence of numbers\n",
    "\n",
    "for i in range(3):\n",
    "    print(\"Hi!\")"
   ]
  },
  {
   "cell_type": "code",
   "execution_count": 6,
   "id": "6e2a11d4-82e2-4c1b-9786-efd848c3a7fe",
   "metadata": {},
   "outputs": [],
   "source": [
    "# range(start=0, stop, step=1)"
   ]
  },
  {
   "cell_type": "code",
   "execution_count": 69,
   "id": "68703ca8-6c74-4642-8e07-6db23fa4f0e2",
   "metadata": {},
   "outputs": [
    {
     "ename": "SyntaxError",
     "evalue": "invalid syntax (798353736.py, line 1)",
     "output_type": "error",
     "traceback": [
      "\u001b[1;36m  Input \u001b[1;32mIn [69]\u001b[1;36m\u001b[0m\n\u001b[1;33m    for i in range(2, 10, 2)\u001b[0m\n\u001b[1;37m                            ^\u001b[0m\n\u001b[1;31mSyntaxError\u001b[0m\u001b[1;31m:\u001b[0m invalid syntax\n"
     ]
    }
   ],
   "source": [
    "for i in range(2, 10, 2)\n",
    "    print i"
   ]
  },
  {
   "cell_type": "code",
   "execution_count": 11,
   "id": "2a3ef5fd-fef9-45a8-bed2-0fc2f26a24d7",
   "metadata": {},
   "outputs": [
    {
     "name": "stdout",
     "output_type": "stream",
     "text": [
      "['New York City', 'Mountain View', 'Chicago', 'Los Angeles']\n"
     ]
    }
   ],
   "source": [
    "# creating a new list\n",
    "\n",
    "## .append() used to add items to the end (first free space) of a given list\n",
    "## .title() returns a string where the first character in every word is upper case\n",
    "\n",
    "cities = ['new york city', 'mountain view', 'chicago', 'los angeles']\n",
    "capitalized_cities = []\n",
    "\n",
    "for city in cities:\n",
    "    capitalized_cities.append(city.title())\n",
    "    \n",
    "print(capitalized_cities)"
   ]
  },
  {
   "cell_type": "code",
   "execution_count": 17,
   "id": "122f31bb-92a7-4a6b-9aeb-d5f22ee10c1f",
   "metadata": {},
   "outputs": [
    {
     "name": "stdout",
     "output_type": "stream",
     "text": [
      "['joey_tribbiani', 'monica_geller', 'chandler_bing', 'phoebe_buffay']\n"
     ]
    }
   ],
   "source": [
    "## .lower() method takes no arguments and returns a string converting each uppercase character to lowercase\n",
    "## .replace() method replaces a specified phrase with another specified phrase\n",
    "\n",
    "names = [\"Joey Tribbiani\", \"Monica Geller\", \"Chandler Bing\", \"Phoebe Buffay\"]\n",
    "usernames = []\n",
    "\n",
    "for name in names:\n",
    "    usernames.append(name.lower().replace(' ', '_'))\n",
    "\n",
    "print(usernames)"
   ]
  },
  {
   "cell_type": "code",
   "execution_count": 19,
   "id": "9333d5ec-989f-447c-9911-0a03ea68f297",
   "metadata": {},
   "outputs": [
    {
     "name": "stdout",
     "output_type": "stream",
     "text": [
      "['New York City', 'Mountain View', 'Chicago', 'Los Angeles']\n",
      "['joey_tribbiani', 'monica_geller', 'chandler_bing', 'phoebe_buffay']\n"
     ]
    }
   ],
   "source": [
    "# modifying a list\n",
    "# len() returns the number of items in an object\n",
    "\n",
    "cities = ['new york city', 'mountain view', 'chicago', 'los angeles']\n",
    "\n",
    "for index in range(len(cities)):\n",
    "    cities[index] = cities[index].title()\n",
    "    \n",
    "print(cities)\n",
    "\n",
    "usernames = [\"Joey Tribbiani\", \"Monica Geller\", \"Chandler Bing\", \"Phoebe Buffay\"]\n",
    "\n",
    "for index in range(len(usernames)):\n",
    "    usernames[index] = usernames[index].lower().replace(' ', '_')\n",
    "\n",
    "print(usernames)"
   ]
  },
  {
   "cell_type": "code",
   "execution_count": null,
   "id": "8990f733-cba6-4aee-a772-e8179b51bd59",
   "metadata": {},
   "outputs": [],
   "source": [
    "# iterating over a list and veryfing a condition (HTML starts with < and ends with >)\n",
    "\n",
    "## .count() returns the number of elements with the specified value"
   ]
  },
  {
   "cell_type": "code",
   "execution_count": 20,
   "id": "34ab76ec-7efb-4227-bd27-6e3ea5367aa8",
   "metadata": {},
   "outputs": [
    {
     "name": "stdout",
     "output_type": "stream",
     "text": [
      "2\n"
     ]
    }
   ],
   "source": [
    "tokens = ['<greeting>', 'Hello World!', '</greeting>']\n",
    "count = 0\n",
    "\n",
    "# write your for loop here\n",
    "\n",
    "for token in tokens:\n",
    "    if token[0] == '<' and token[-1] == '>':\n",
    "        count += 1\n",
    "\n",
    "print(count)"
   ]
  },
  {
   "cell_type": "code",
   "execution_count": 23,
   "id": "4eabd064-1cee-4142-ab8d-94a82ff30b13",
   "metadata": {},
   "outputs": [
    {
     "name": "stdout",
     "output_type": "stream",
     "text": [
      "<ul>\n",
      "<li>first string</li>\n",
      "<li>second string</li>\n",
      "</ul>\n"
     ]
    }
   ],
   "source": [
    "# \"\\ n\" is the character that marks the end of the line,\n",
    "                     # it does the characters that are after it in html_str\n",
    "                     # are on the next line\n",
    "\n",
    "items = ['first string', 'second string']\n",
    "html_str = \"<ul>\\n\"\n",
    "\n",
    "for item in items:\n",
    "    html_str += \"<li>{}</li>\\n\".format(item)\n",
    "\n",
    "html_str = html_str + \"</ul>\"\n",
    "\n",
    "print(html_str)"
   ]
  },
  {
   "cell_type": "raw",
   "id": "8f10416b-ed34-44d1-ae65-70fc9baf2fba",
   "metadata": {},
   "source": [
    "print(list(range(4)))"
   ]
  },
  {
   "cell_type": "code",
   "execution_count": 26,
   "id": "11d146d8-9c8e-4096-9f16-1cfcc23ea9ea",
   "metadata": {},
   "outputs": [
    {
     "name": "stdout",
     "output_type": "stream",
     "text": [
      "720\n"
     ]
    }
   ],
   "source": [
    "# find the factorial of a number with for loop\n",
    "\n",
    "number = 6\n",
    "product = 1\n",
    "\n",
    "for i in range(2, number + 1):\n",
    "    product *= i\n",
    "    \n",
    "print(product)"
   ]
  }
 ],
 "metadata": {
  "kernelspec": {
   "display_name": "Python 3 (ipykernel)",
   "language": "python",
   "name": "python3"
  },
  "language_info": {
   "codemirror_mode": {
    "name": "ipython",
    "version": 3
   },
   "file_extension": ".py",
   "mimetype": "text/x-python",
   "name": "python",
   "nbconvert_exporter": "python",
   "pygments_lexer": "ipython3",
   "version": "3.9.12"
  }
 },
 "nbformat": 4,
 "nbformat_minor": 5
}

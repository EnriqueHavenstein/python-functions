{
 "cells": [
  {
   "cell_type": "code",
   "execution_count": null,
   "id": "2344eb24-3131-4dfe-adf6-573454e1cb26",
   "metadata": {},
   "outputs": [],
   "source": [
    "# dictionaries\n",
    "\n",
    "## 1) counting with for loops and 2) the dictionary get method."
   ]
  },
  {
   "cell_type": "code",
   "execution_count": 18,
   "id": "39a9c298-b248-4fba-96bc-78aa9777d510",
   "metadata": {},
   "outputs": [],
   "source": [
    "# Method 1: Using a for loop to create a set of counters\n",
    "\n",
    "## list containing book titles\n",
    "book_title =  ['great', 'expectations','the', 'adventures', 'of', 'sherlock','holmes','the','great','gasby','hamlet','adventures','of','huckleberry','fin']\n",
    "## creation of empty dictionary\n",
    "word_counter = {}"
   ]
  },
  {
   "cell_type": "code",
   "execution_count": 19,
   "id": "b99dcdd7-89a7-4a5e-b4e3-3706710e5d1d",
   "metadata": {
    "tags": []
   },
   "outputs": [
    {
     "name": "stdout",
     "output_type": "stream",
     "text": [
      "{'great': 2, 'expectations': 1, 'the': 2, 'adventures': 2, 'of': 2, 'sherlock': 1, 'holmes': 1, 'gasby': 1, 'hamlet': 1, 'huckleberry': 1, 'fin': 1}\n"
     ]
    }
   ],
   "source": [
    "## for each position in book title,\n",
    "## if the word is not in the dictionary, sets value to 1.\n",
    "## Else (it is already) increases count by 1.\n",
    "\n",
    "for word in book_title:\n",
    "    if word not in word_counter:\n",
    "        word_counter[word] = 1\n",
    "    else:\n",
    "        word_counter[word] += 1\n",
    "        \n",
    "print(word_counter)"
   ]
  },
  {
   "cell_type": "code",
   "execution_count": 25,
   "id": "b02ff1e1-df95-456b-91b2-9a0e01dfa055",
   "metadata": {
    "tags": []
   },
   "outputs": [],
   "source": [
    "# Method 2: Using the get method\n",
    "\n",
    "book_title =  ['great', 'expectations','the', 'adventures', 'of', 'sherlock','holmes','the','great','gasby','hamlet','adventures','of','huckleberry','fin']\n",
    "word_counter = {}"
   ]
  },
  {
   "cell_type": "code",
   "execution_count": 26,
   "id": "30340199-79cf-466a-aa17-8f1508d57b65",
   "metadata": {},
   "outputs": [
    {
     "name": "stdout",
     "output_type": "stream",
     "text": [
      "{'great': 2, 'expectations': 1, 'the': 2, 'adventures': 2, 'of': 2, 'sherlock': 1, 'holmes': 1, 'gasby': 1, 'hamlet': 1, 'huckleberry': 1, 'fin': 1}\n"
     ]
    }
   ],
   "source": [
    "## dictionary.get(keyname, value)\n",
    "\n",
    "for word in book_title:\n",
    "    word_counter[word] = word_counter.get(word, 0) + 1\n",
    "    \n",
    "print(word_counter)"
   ]
  },
  {
   "cell_type": "code",
   "execution_count": null,
   "id": "a09f9fdc-b4f3-4aff-ab39-4ba4e995455a",
   "metadata": {},
   "outputs": [],
   "source": []
  }
 ],
 "metadata": {
  "kernelspec": {
   "display_name": "Python 3 (ipykernel)",
   "language": "python",
   "name": "python3"
  },
  "language_info": {
   "codemirror_mode": {
    "name": "ipython",
    "version": 3
   },
   "file_extension": ".py",
   "mimetype": "text/x-python",
   "name": "python",
   "nbconvert_exporter": "python",
   "pygments_lexer": "ipython3",
   "version": "3.9.12"
  }
 },
 "nbformat": 4,
 "nbformat_minor": 5
}
